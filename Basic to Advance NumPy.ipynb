{
 "cells": [
  {
   "cell_type": "markdown",
   "id": "9d48b0ef",
   "metadata": {},
   "source": [
    "# Covering a range of basic to advanced functionalities Of Numpy:"
   ]
  },
  {
   "cell_type": "code",
   "execution_count": 5,
   "id": "00f8f5b6",
   "metadata": {},
   "outputs": [],
   "source": [
    "# Importing Numpy\n",
    "import numpy as np"
   ]
  },
  {
   "cell_type": "markdown",
   "id": "fa8318d7",
   "metadata": {},
   "source": [
    "# Basic Operations"
   ]
  },
  {
   "cell_type": "code",
   "execution_count": 6,
   "id": "8e37b8c6",
   "metadata": {},
   "outputs": [
    {
     "name": "stdout",
     "output_type": "stream",
     "text": [
      "[1 2 3 4 5]\n"
     ]
    }
   ],
   "source": [
    "# Creating an array from a list:\n",
    "arr = np.array([1, 2, 3, 4, 5])\n",
    "print(arr)"
   ]
  },
  {
   "cell_type": "code",
   "execution_count": 7,
   "id": "2f5c7d30",
   "metadata": {},
   "outputs": [
    {
     "name": "stdout",
     "output_type": "stream",
     "text": [
      "[[1 2]\n",
      " [3 4]]\n"
     ]
    }
   ],
   "source": [
    "# Creating a 2D array:\n",
    "arr_2d = np.array([[1, 2], [3, 4]])\n",
    "print(arr_2d)"
   ]
  },
  {
   "cell_type": "code",
   "execution_count": 9,
   "id": "4e4e8e6d",
   "metadata": {},
   "outputs": [
    {
     "name": "stdout",
     "output_type": "stream",
     "text": [
      "[[0. 0. 0. 0.]\n",
      " [0. 0. 0. 0.]\n",
      " [0. 0. 0. 0.]]\n"
     ]
    }
   ],
   "source": [
    "# Creating an array of zeros:\n",
    "zeros = np.zeros((3, 4))\n",
    "print(zeros)"
   ]
  },
  {
   "cell_type": "code",
   "execution_count": 10,
   "id": "c5a7ff4e",
   "metadata": {},
   "outputs": [
    {
     "name": "stdout",
     "output_type": "stream",
     "text": [
      "[[1. 1. 1.]\n",
      " [1. 1. 1.]]\n"
     ]
    }
   ],
   "source": [
    "# Creating an array of ones:\n",
    "ones = np.ones((2, 3))\n",
    "print(ones)"
   ]
  },
  {
   "cell_type": "code",
   "execution_count": 11,
   "id": "ec96c78b",
   "metadata": {},
   "outputs": [
    {
     "name": "stdout",
     "output_type": "stream",
     "text": [
      "[[7 7 7]\n",
      " [7 7 7]\n",
      " [7 7 7]]\n"
     ]
    }
   ],
   "source": [
    "# Creating an array with a constant value:\n",
    "const_array = np.full((3, 3), 7)\n",
    "print(const_array)"
   ]
  },
  {
   "cell_type": "code",
   "execution_count": 12,
   "id": "943c79c9",
   "metadata": {},
   "outputs": [
    {
     "name": "stdout",
     "output_type": "stream",
     "text": [
      "[0 2 4 6 8]\n"
     ]
    }
   ],
   "source": [
    "# Creating an array with a range of values:\n",
    "range_arr = np.arange(0, 10, 2)\n",
    "print(range_arr)"
   ]
  },
  {
   "cell_type": "code",
   "execution_count": 13,
   "id": "25ca41b8",
   "metadata": {},
   "outputs": [
    {
     "name": "stdout",
     "output_type": "stream",
     "text": [
      "[0.   0.25 0.5  0.75 1.  ]\n"
     ]
    }
   ],
   "source": [
    "# Creating an array of evenly spaced values:\n",
    "linspace_arr = np.linspace(0, 1, 5)\n",
    "print(linspace_arr)"
   ]
  },
  {
   "cell_type": "code",
   "execution_count": 14,
   "id": "258956c1",
   "metadata": {},
   "outputs": [
    {
     "name": "stdout",
     "output_type": "stream",
     "text": [
      "[[1. 0. 0. 0.]\n",
      " [0. 1. 0. 0.]\n",
      " [0. 0. 1. 0.]\n",
      " [0. 0. 0. 1.]]\n"
     ]
    }
   ],
   "source": [
    "# Creating an identity matrix:\n",
    "identity = np.eye(4)\n",
    "print(identity)"
   ]
  },
  {
   "cell_type": "code",
   "execution_count": 15,
   "id": "6152075c",
   "metadata": {},
   "outputs": [
    {
     "name": "stdout",
     "output_type": "stream",
     "text": [
      "[[0.2800036  0.24768729 0.13215792]\n",
      " [0.38175888 0.43954399 0.66781232]\n",
      " [0.26575169 0.15435785 0.75512528]]\n"
     ]
    }
   ],
   "source": [
    "# Creating a random array:\n",
    "random_arr = np.random.rand(3, 3)\n",
    "print(random_arr)"
   ]
  },
  {
   "cell_type": "markdown",
   "id": "00282498",
   "metadata": {},
   "source": [
    "# Array Manipulation"
   ]
  },
  {
   "cell_type": "code",
   "execution_count": 16,
   "id": "581ed1d7",
   "metadata": {},
   "outputs": [
    {
     "name": "stdout",
     "output_type": "stream",
     "text": [
      "[[0 1 2]\n",
      " [3 4 5]\n",
      " [6 7 8]]\n"
     ]
    }
   ],
   "source": [
    "# Reshaping an array:\n",
    "reshaped = np.arange(9).reshape(3, 3)\n",
    "print(reshaped)"
   ]
  },
  {
   "cell_type": "code",
   "execution_count": 17,
   "id": "1908ee1c",
   "metadata": {},
   "outputs": [
    {
     "name": "stdout",
     "output_type": "stream",
     "text": [
      "[0 1 2 3 4 5 6 7 8]\n"
     ]
    }
   ],
   "source": [
    "# Flattening an array:\n",
    "flat_arr = reshaped.flatten()\n",
    "print(flat_arr)"
   ]
  },
  {
   "cell_type": "code",
   "execution_count": 18,
   "id": "eaa9b3cd",
   "metadata": {},
   "outputs": [
    {
     "name": "stdout",
     "output_type": "stream",
     "text": [
      "[[0 3 6]\n",
      " [1 4 7]\n",
      " [2 5 8]]\n"
     ]
    }
   ],
   "source": [
    "# Transposing an array:\n",
    "transposed = reshaped.T\n",
    "print(transposed)"
   ]
  },
  {
   "cell_type": "code",
   "execution_count": 19,
   "id": "724bc8f7",
   "metadata": {},
   "outputs": [
    {
     "name": "stdout",
     "output_type": "stream",
     "text": [
      "[1 2 3 4 5 6]\n"
     ]
    }
   ],
   "source": [
    "# Concatenating arrays:\n",
    "a = np.array([1, 2, 3])\n",
    "b = np.array([4, 5, 6])\n",
    "concatenated = np.concatenate((a, b))\n",
    "print(concatenated)"
   ]
  },
  {
   "cell_type": "code",
   "execution_count": 20,
   "id": "f89a4c23",
   "metadata": {},
   "outputs": [
    {
     "name": "stdout",
     "output_type": "stream",
     "text": [
      "[[1 2 3]\n",
      " [4 5 6]]\n"
     ]
    }
   ],
   "source": [
    "# Stacking arrays vertically:\n",
    "stacked_v = np.vstack((a, b))\n",
    "print(stacked_v)"
   ]
  },
  {
   "cell_type": "code",
   "execution_count": 21,
   "id": "fc260510",
   "metadata": {},
   "outputs": [
    {
     "name": "stdout",
     "output_type": "stream",
     "text": [
      "[1 2 3 4 5 6]\n"
     ]
    }
   ],
   "source": [
    "# Stacking arrays horizontally:\n",
    "stacked_h = np.hstack((a, b))\n",
    "print(stacked_h)"
   ]
  },
  {
   "cell_type": "code",
   "execution_count": 22,
   "id": "1f0b600a",
   "metadata": {},
   "outputs": [
    {
     "name": "stdout",
     "output_type": "stream",
     "text": [
      "[array([0, 1, 2, 3, 4]), array([5, 6, 7, 8, 9])]\n"
     ]
    }
   ],
   "source": [
    "# Splitting an array:\n",
    "split_arr = np.split(np.arange(10), 2)\n",
    "print(split_arr)"
   ]
  },
  {
   "cell_type": "code",
   "execution_count": 23,
   "id": "49e878fc",
   "metadata": {},
   "outputs": [
    {
     "name": "stdout",
     "output_type": "stream",
     "text": [
      "[1 1 1 2 2 2 3 3 3]\n"
     ]
    }
   ],
   "source": [
    "# Repeating elements of an array:\n",
    "repeated = np.repeat([1, 2, 3], 3)\n",
    "print(repeated)"
   ]
  },
  {
   "cell_type": "code",
   "execution_count": 24,
   "id": "246cf82c",
   "metadata": {},
   "outputs": [
    {
     "name": "stdout",
     "output_type": "stream",
     "text": [
      "[[1 2 1 2]\n",
      " [1 2 1 2]\n",
      " [1 2 1 2]]\n"
     ]
    }
   ],
   "source": [
    "# Tiling an array:\n",
    "tiled = np.tile([1, 2], (3, 2))\n",
    "print(tiled)"
   ]
  },
  {
   "cell_type": "code",
   "execution_count": 25,
   "id": "96accea3",
   "metadata": {},
   "outputs": [
    {
     "name": "stdout",
     "output_type": "stream",
     "text": [
      "[1. 2. 3. 4. 5.]\n"
     ]
    }
   ],
   "source": [
    "# Changing data type of an array:\n",
    "float_arr = arr.astype(float)\n",
    "print(float_arr)"
   ]
  },
  {
   "cell_type": "code",
   "execution_count": 54,
   "id": "f877e7c9",
   "metadata": {},
   "outputs": [
    {
     "name": "stdout",
     "output_type": "stream",
     "text": [
      "[5 4 6 6 6]\n"
     ]
    }
   ],
   "source": [
    "# Adding Two Arrays\n",
    "added_arr = arr + np.array([5, 4, 3, 2, 1])\n",
    "print(added_arr)"
   ]
  },
  {
   "cell_type": "code",
   "execution_count": 55,
   "id": "3d7fda7e",
   "metadata": {},
   "outputs": [
    {
     "name": "stdout",
     "output_type": "stream",
     "text": [
      "[-1 -1  2  3  4]\n"
     ]
    }
   ],
   "source": [
    "# Subtracting Two Arrays\n",
    "subtracted_arr = arr - np.array([1, 1, 1, 1, 1])\n",
    "print(subtracted_arr)"
   ]
  },
  {
   "cell_type": "code",
   "execution_count": 56,
   "id": "67122c15",
   "metadata": {},
   "outputs": [
    {
     "name": "stdout",
     "output_type": "stream",
     "text": [
      "[ 0  0  6  8 10]\n"
     ]
    }
   ],
   "source": [
    "#Multiplying Two Arrays\n",
    "multiplied_arr = arr * np.array([2, 2, 2, 2, 2])\n",
    "print(multiplied_arr)"
   ]
  },
  {
   "cell_type": "markdown",
   "id": "3e52c224",
   "metadata": {},
   "source": [
    "# Indexing and Slicing"
   ]
  },
  {
   "cell_type": "code",
   "execution_count": 26,
   "id": "79376013",
   "metadata": {},
   "outputs": [
    {
     "name": "stdout",
     "output_type": "stream",
     "text": [
      "3\n"
     ]
    }
   ],
   "source": [
    "# Accessing elements:\n",
    "element = arr[2]  # 3rd element\n",
    "print(element)"
   ]
  },
  {
   "cell_type": "code",
   "execution_count": 27,
   "id": "b6543295",
   "metadata": {},
   "outputs": [
    {
     "name": "stdout",
     "output_type": "stream",
     "text": [
      "[2 3 4]\n"
     ]
    }
   ],
   "source": [
    "# Slicing arrays:\n",
    "sliced = arr[1:4]  # Elements from index 1 to 3\n",
    "print(sliced)"
   ]
  },
  {
   "cell_type": "code",
   "execution_count": 28,
   "id": "8fa9a086",
   "metadata": {},
   "outputs": [
    {
     "name": "stdout",
     "output_type": "stream",
     "text": [
      "[1 3 5]\n"
     ]
    }
   ],
   "source": [
    "# Advanced indexing:\n",
    "selected = arr[[0, 2, 4]]  # Elements at positions 0, 2, and 4\n",
    "print(selected)"
   ]
  },
  {
   "cell_type": "code",
   "execution_count": 29,
   "id": "9d5b806a",
   "metadata": {},
   "outputs": [
    {
     "name": "stdout",
     "output_type": "stream",
     "text": [
      "[3 4 5]\n"
     ]
    }
   ],
   "source": [
    "# Boolean indexing:\n",
    "bool_idx = arr[arr > 2]\n",
    "print(bool_idx)"
   ]
  },
  {
   "cell_type": "code",
   "execution_count": 30,
   "id": "fb82b68c",
   "metadata": {},
   "outputs": [
    {
     "name": "stdout",
     "output_type": "stream",
     "text": [
      "4\n"
     ]
    }
   ],
   "source": [
    "# Indexing in 2D arrays:\n",
    "element_2d = arr_2d[1, 1]  # Element at 2nd row, 2nd column\n",
    "print(element_2d)"
   ]
  },
  {
   "cell_type": "markdown",
   "id": "eea7647f",
   "metadata": {},
   "source": [
    "# Mathematical Operations"
   ]
  },
  {
   "cell_type": "code",
   "execution_count": 33,
   "id": "66b44c10",
   "metadata": {},
   "outputs": [
    {
     "name": "stdout",
     "output_type": "stream",
     "text": [
      "[2 3 4 5 6]\n"
     ]
    }
   ],
   "source": [
    "# Element-wise addition:\n",
    "sum_arr = arr + 1\n",
    "print(sum_arr)"
   ]
  },
  {
   "cell_type": "code",
   "execution_count": 34,
   "id": "0f9900bb",
   "metadata": {},
   "outputs": [
    {
     "name": "stdout",
     "output_type": "stream",
     "text": [
      "[ 2  4  6  8 10]\n"
     ]
    }
   ],
   "source": [
    "# Element-wise multiplication:\n",
    "product_arr = arr * 2\n",
    "print(product_arr)"
   ]
  },
  {
   "cell_type": "code",
   "execution_count": 35,
   "id": "b5dfb816",
   "metadata": {},
   "outputs": [
    {
     "name": "stdout",
     "output_type": "stream",
     "text": [
      "[[ 7 10]\n",
      " [15 22]]\n"
     ]
    }
   ],
   "source": [
    "# Matrix multiplication:\n",
    "mat_mult = np.dot(arr_2d, arr_2d)\n",
    "print(mat_mult)"
   ]
  },
  {
   "cell_type": "code",
   "execution_count": 36,
   "id": "c7071fe2",
   "metadata": {},
   "outputs": [
    {
     "name": "stdout",
     "output_type": "stream",
     "text": [
      "15\n"
     ]
    }
   ],
   "source": [
    "# Finding the sum of all elements:\n",
    "total_sum = arr.sum()\n",
    "print(total_sum)"
   ]
  },
  {
   "cell_type": "code",
   "execution_count": 37,
   "id": "812ba7ac",
   "metadata": {},
   "outputs": [
    {
     "name": "stdout",
     "output_type": "stream",
     "text": [
      "3.0\n"
     ]
    }
   ],
   "source": [
    "# Finding the mean:\n",
    "mean_val = arr.mean()\n",
    "print(mean_val)"
   ]
  },
  {
   "cell_type": "code",
   "execution_count": 38,
   "id": "c0486ba9",
   "metadata": {},
   "outputs": [
    {
     "name": "stdout",
     "output_type": "stream",
     "text": [
      "1.4142135623730951\n"
     ]
    }
   ],
   "source": [
    "# Finding the standard deviation:\n",
    "std_val = arr.std()\n",
    "print(std_val)"
   ]
  },
  {
   "cell_type": "code",
   "execution_count": 39,
   "id": "8ca98aeb",
   "metadata": {},
   "outputs": [
    {
     "name": "stdout",
     "output_type": "stream",
     "text": [
      "5\n",
      "1\n"
     ]
    }
   ],
   "source": [
    "# Finding the maximum and minimum values:\n",
    "max_val = arr.max()\n",
    "min_val = arr.min()\n",
    "print(max_val)\n",
    "print(min_val)"
   ]
  },
  {
   "cell_type": "code",
   "execution_count": 40,
   "id": "7898f85e",
   "metadata": {},
   "outputs": [
    {
     "name": "stdout",
     "output_type": "stream",
     "text": [
      "[ 1  3  6 10 15]\n"
     ]
    }
   ],
   "source": [
    "# Cumulative sum of elements:\n",
    "cum_sum = arr.cumsum()\n",
    "print(cum_sum)"
   ]
  },
  {
   "cell_type": "code",
   "execution_count": 41,
   "id": "37f1c5c7",
   "metadata": {},
   "outputs": [
    {
     "name": "stdout",
     "output_type": "stream",
     "text": [
      "[1 2 3 4 5]\n"
     ]
    }
   ],
   "source": [
    "# Finding unique elements:\n",
    "unique_elements = np.unique([1, 2, 2, 3, 4, 4, 5])\n",
    "print(unique_elements)"
   ]
  },
  {
   "cell_type": "markdown",
   "id": "11ccf808",
   "metadata": {},
   "source": [
    "# Masking and Filtering"
   ]
  },
  {
   "cell_type": "code",
   "execution_count": 42,
   "id": "d9126a8a",
   "metadata": {},
   "outputs": [
    {
     "name": "stdout",
     "output_type": "stream",
     "text": [
      "[4 5]\n"
     ]
    }
   ],
   "source": [
    "# Masking with conditions:\n",
    "mask = arr > 3\n",
    "filtered = arr[mask]\n",
    "print(filtered)"
   ]
  },
  {
   "cell_type": "code",
   "execution_count": 48,
   "id": "cdd00719",
   "metadata": {},
   "outputs": [
    {
     "name": "stdout",
     "output_type": "stream",
     "text": [
      "[0 0 3 4 5]\n"
     ]
    }
   ],
   "source": [
    "# Replacing values conditionally:\n",
    "arr[arr < 3] = 0\n",
    "print(arr)"
   ]
  },
  {
   "cell_type": "code",
   "execution_count": 49,
   "id": "16afe2e0",
   "metadata": {},
   "outputs": [
    {
     "name": "stdout",
     "output_type": "stream",
     "text": [
      "[0 0 0 4 5]\n"
     ]
    }
   ],
   "source": [
    "# Using where for conditional replacement:\n",
    "modified_arr = np.where(arr > 3, arr, 0)\n",
    "print(modified_arr)"
   ]
  },
  {
   "cell_type": "markdown",
   "id": "cfc47f20",
   "metadata": {},
   "source": [
    "# Advanced Functions"
   ]
  },
  {
   "cell_type": "code",
   "execution_count": 50,
   "id": "5398e45e",
   "metadata": {},
   "outputs": [
    {
     "name": "stdout",
     "output_type": "stream",
     "text": [
      "[1 1 4 5 6]\n"
     ]
    }
   ],
   "source": [
    "# Broadcasting:\n",
    "broadcast_result = arr + np.array([1])\n",
    "print(broadcast_result)"
   ]
  },
  {
   "cell_type": "code",
   "execution_count": 51,
   "id": "b69a8834",
   "metadata": {},
   "outputs": [
    {
     "name": "stdout",
     "output_type": "stream",
     "text": [
      "[0 0 3 4 5]\n"
     ]
    }
   ],
   "source": [
    "# Sorting an array:\n",
    "sorted_arr = np.sort(arr)\n",
    "print(sorted_arr)"
   ]
  },
  {
   "cell_type": "code",
   "execution_count": 53,
   "id": "68a68b7d",
   "metadata": {},
   "outputs": [
    {
     "data": {
      "text/plain": [
       "array([ 0,  0,  9, 16, 25])"
      ]
     },
     "execution_count": 53,
     "metadata": {},
     "output_type": "execute_result"
    }
   ],
   "source": [
    "# Applying functions element-wise with vectorize:\n",
    "def square(x):\n",
    "    return x ** 2\n",
    "\n",
    "vectorized_square = np.vectorize(square)\n",
    "result = vectorized_square(arr)\n",
    "result"
   ]
  },
  {
   "cell_type": "code",
   "execution_count": null,
   "id": "4e1840b3",
   "metadata": {},
   "outputs": [],
   "source": []
  }
 ],
 "metadata": {
  "kernelspec": {
   "display_name": "Python 3 (ipykernel)",
   "language": "python",
   "name": "python3"
  },
  "language_info": {
   "codemirror_mode": {
    "name": "ipython",
    "version": 3
   },
   "file_extension": ".py",
   "mimetype": "text/x-python",
   "name": "python",
   "nbconvert_exporter": "python",
   "pygments_lexer": "ipython3",
   "version": "3.11.5"
  }
 },
 "nbformat": 4,
 "nbformat_minor": 5
}
